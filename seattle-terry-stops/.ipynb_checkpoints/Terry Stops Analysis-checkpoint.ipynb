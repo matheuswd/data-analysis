{
 "cells": [
  {
   "cell_type": "markdown",
   "metadata": {},
   "source": [
    "# Summary\n",
    "* [1. Data Cleaning](#Section-1---Initial-Data-Cleaning)\n",
    "* [2. Analysis](#Section-2---Analysis)\n",
    "    * [2.1. Age Comparison](#2.1-Age-comparison)\n",
    "    * [2.2. Stop Resolution Comparison](#2.2-Stop-Resolution-Comparison)\n",
    "    * [2.3. Stops bt Officer](#2.3-Stops-by-officer)\n",
    "    * [2.4. Weapons by the first 10 Officers](#2.4-Weapons-by-the-first-10-Officers)"
   ]
  },
  {
   "cell_type": "code",
   "execution_count": 305,
   "metadata": {},
   "outputs": [],
   "source": [
    "import numpy as np\n",
    "import pandas as pd\n",
    "import matplotlib.pyplot as plt\n",
    "import seaborn as sns\n",
    "\n",
    "plt.rcParams['figure.figsize'] = (10,10)"
   ]
  },
  {
   "cell_type": "code",
   "execution_count": 306,
   "metadata": {},
   "outputs": [
    {
     "name": "stderr",
     "output_type": "stream",
     "text": [
      "ERROR:root:Internal Python error in the inspect module.\n",
      "Below is the traceback from this internal error.\n",
      "\n"
     ]
    },
    {
     "name": "stdout",
     "output_type": "stream",
     "text": [
      "Traceback (most recent call last):\n",
      "  File \"/Users/matheuswd/anaconda3/lib/python3.6/site-packages/IPython/core/interactiveshell.py\", line 2963, in run_code\n",
      "    exec(code_obj, self.user_global_ns, self.user_ns)\n",
      "  File \"<ipython-input-306-28ba6b3a3e7e>\", line 1, in <module>\n",
      "    df = pd.read_csv('terry-stops.csv')\n",
      "  File \"/Users/matheuswd/anaconda3/lib/python3.6/site-packages/pandas/io/parsers.py\", line 678, in parser_f\n",
      "    return _read(filepath_or_buffer, kwds)\n",
      "  File \"/Users/matheuswd/anaconda3/lib/python3.6/site-packages/pandas/io/parsers.py\", line 440, in _read\n",
      "    parser = TextFileReader(filepath_or_buffer, **kwds)\n",
      "  File \"/Users/matheuswd/anaconda3/lib/python3.6/site-packages/pandas/io/parsers.py\", line 787, in __init__\n",
      "    self._make_engine(self.engine)\n",
      "  File \"/Users/matheuswd/anaconda3/lib/python3.6/site-packages/pandas/io/parsers.py\", line 1014, in _make_engine\n",
      "    self._engine = CParserWrapper(self.f, **self.options)\n",
      "  File \"/Users/matheuswd/anaconda3/lib/python3.6/site-packages/pandas/io/parsers.py\", line 1708, in __init__\n",
      "    self._reader = parsers.TextReader(src, **kwds)\n",
      "  File \"pandas/_libs/parsers.pyx\", line 384, in pandas._libs.parsers.TextReader.__cinit__\n",
      "  File \"pandas/_libs/parsers.pyx\", line 695, in pandas._libs.parsers.TextReader._setup_parser_source\n",
      "FileNotFoundError: File b'terry-stops.csv' does not exist\n",
      "\n",
      "During handling of the above exception, another exception occurred:\n",
      "\n",
      "Traceback (most recent call last):\n",
      "  File \"/Users/matheuswd/anaconda3/lib/python3.6/site-packages/IPython/core/interactiveshell.py\", line 1863, in showtraceback\n",
      "    stb = value._render_traceback_()\n",
      "AttributeError: 'FileNotFoundError' object has no attribute '_render_traceback_'\n",
      "\n",
      "During handling of the above exception, another exception occurred:\n",
      "\n",
      "Traceback (most recent call last):\n",
      "  File \"/Users/matheuswd/anaconda3/lib/python3.6/site-packages/IPython/core/ultratb.py\", line 1095, in get_records\n",
      "    return _fixed_getinnerframes(etb, number_of_lines_of_context, tb_offset)\n",
      "  File \"/Users/matheuswd/anaconda3/lib/python3.6/site-packages/IPython/core/ultratb.py\", line 311, in wrapped\n",
      "    return f(*args, **kwargs)\n",
      "  File \"/Users/matheuswd/anaconda3/lib/python3.6/site-packages/IPython/core/ultratb.py\", line 345, in _fixed_getinnerframes\n",
      "    records = fix_frame_records_filenames(inspect.getinnerframes(etb, context))\n",
      "  File \"/Users/matheuswd/anaconda3/lib/python3.6/inspect.py\", line 1483, in getinnerframes\n",
      "    frameinfo = (tb.tb_frame,) + getframeinfo(tb, context)\n",
      "  File \"/Users/matheuswd/anaconda3/lib/python3.6/inspect.py\", line 1441, in getframeinfo\n",
      "    filename = getsourcefile(frame) or getfile(frame)\n",
      "  File \"/Users/matheuswd/anaconda3/lib/python3.6/inspect.py\", line 696, in getsourcefile\n",
      "    if getattr(getmodule(object, filename), '__loader__', None) is not None:\n",
      "  File \"/Users/matheuswd/anaconda3/lib/python3.6/inspect.py\", line 725, in getmodule\n",
      "    file = getabsfile(object, _filename)\n",
      "  File \"/Users/matheuswd/anaconda3/lib/python3.6/inspect.py\", line 709, in getabsfile\n",
      "    return os.path.normcase(os.path.abspath(_filename))\n",
      "  File \"/Users/matheuswd/anaconda3/lib/python3.6/posixpath.py\", line 376, in abspath\n",
      "    cwd = os.getcwd()\n",
      "FileNotFoundError: [Errno 2] No such file or directory\n"
     ]
    },
    {
     "ename": "FileNotFoundError",
     "evalue": "File b'terry-stops.csv' does not exist",
     "output_type": "error",
     "traceback": [
      "\u001b[0;31m---------------------------------------------------------------------------\u001b[0m"
     ]
    }
   ],
   "source": [
    "df = pd.read_csv('terry-stops.csv')"
   ]
  },
  {
   "cell_type": "code",
   "execution_count": null,
   "metadata": {},
   "outputs": [],
   "source": [
    "df.head()"
   ]
  },
  {
   "cell_type": "markdown",
   "metadata": {},
   "source": [
    "# Section 1 - Initial Data Cleaning\n",
    "Data cleaning is the name of the process that we manage to see what kind of data we should have or not on our dataframe. When we are working with datasets, it's important to clean the data we have to make our analysis more meaningful.\n",
    "We'll follow the following steps:\n",
    "* Check if we have null values or nonsense values and drop it\n",
    "* Remove columns that are not necessary for our analysis\n",
    "* Rename columns names"
   ]
  },
  {
   "cell_type": "code",
   "execution_count": null,
   "metadata": {},
   "outputs": [],
   "source": [
    "df.info()"
   ]
  },
  {
   "cell_type": "code",
   "execution_count": null,
   "metadata": {},
   "outputs": [],
   "source": [
    "df.isnull().any()"
   ]
  },
  {
   "cell_type": "markdown",
   "metadata": {},
   "source": [
    "As we can see, we have many columns that contains null values. Let's drop it."
   ]
  },
  {
   "cell_type": "code",
   "execution_count": null,
   "metadata": {},
   "outputs": [],
   "source": [
    "df = df.dropna()\n",
    "df.isnull().any()"
   ]
  },
  {
   "cell_type": "markdown",
   "metadata": {},
   "source": [
    "As we can see now, all the lines have no null value. We'll keep cleaning the data, but in a next moment.\n",
    "Now, let's rename our columns."
   ]
  },
  {
   "cell_type": "code",
   "execution_count": null,
   "metadata": {},
   "outputs": [],
   "source": [
    "df.columns"
   ]
  },
  {
   "cell_type": "code",
   "execution_count": null,
   "metadata": {},
   "outputs": [],
   "source": [
    "df.columns = ['Subject_Age_Group', 'Subject_ID', 'GO_SC_Num', 'Terry_Stop_ID',\n",
    "       'Stop_Resolution', 'Weapon_Type', 'Officer_ID', 'Officer_YOB',\n",
    "       'Officer_Gender', 'Officer_Race', 'Subject_Perceived_Race',\n",
    "       'Subject_Perceived_Gender', 'Reported_Date', 'Reported_Time',\n",
    "       'Initial_Call_Type', 'Final_Call_Type', 'Call_Type', 'Officer_Squad',\n",
    "       'Arrest_Flag', 'Frisk_Flag', 'Precinct', 'Sector', 'Beat']\n",
    "df.columns"
   ]
  },
  {
   "cell_type": "markdown",
   "metadata": {},
   "source": [
    "Nice! The columns are renamed. Now, let's delete the columns that are not necessary for us."
   ]
  },
  {
   "cell_type": "code",
   "execution_count": null,
   "metadata": {},
   "outputs": [],
   "source": [
    "df[:20]"
   ]
  },
  {
   "cell_type": "code",
   "execution_count": null,
   "metadata": {},
   "outputs": [],
   "source": [
    "del df['Subject_ID']\n",
    "del df['GO_SC_Num']"
   ]
  },
  {
   "cell_type": "markdown",
   "metadata": {},
   "source": [
    "# Section 2 - Analysis\n",
    "## 2.1 Age comparison\n",
    "In the first comparison, we will understand how old are the people that are beng stopped and how many people from each category."
   ]
  },
  {
   "cell_type": "code",
   "execution_count": null,
   "metadata": {},
   "outputs": [],
   "source": [
    "filter_age = df['Subject_Age_Group'] != '-'\n",
    "df_filter_age = df[filter_age]\n",
    "x = df_filter_age['Subject_Age_Group'].value_counts().index\n",
    "y = df_filter_age['Subject_Age_Group'].value_counts()\n",
    "\n",
    "fig, ax = plt.subplots()\n",
    "fig.set_size_inches(15, 7)\n",
    "\n",
    "graph_age = sns.barplot(x=x, \n",
    "            y=y, \n",
    "            order=['1 - 17', '18 - 25', '26 - 35', '36 - 45', '46 - 55', '56 and Above'] )\n",
    "graph_age.set(ylabel = 'Quantity of Stopped People', \n",
    "                          xlabel = 'Age Range', \n",
    "                          title = 'Stops by Age')\n",
    "plt.show()"
   ]
  },
  {
   "cell_type": "markdown",
   "metadata": {},
   "source": [
    "## 2.2 Stop Resolution Comparison"
   ]
  },
  {
   "cell_type": "code",
   "execution_count": null,
   "metadata": {},
   "outputs": [],
   "source": [
    "df.Stop_Resolution.unique()"
   ]
  },
  {
   "cell_type": "code",
   "execution_count": null,
   "metadata": {},
   "outputs": [],
   "source": [
    "# filter_stop_resolution = df['Stop_Resolution'] != '-'\n",
    "# df_filter_stop_resolution = df[filter_stop_resolution]\n",
    "# x_df_filter_stop_resolution = df_filter_stop_resolution['Stop_Resolution'].value_counts().index\n",
    "# y_df_filter_stop_resolution = df_filter_stop_resolution['Stop_Resolution'].value_counts()\n",
    "\n",
    "# fig, ax = plt.subplots()\n",
    "# fig.set_size_inches(15, 7)\n",
    "# graph_stop_resolution = sns.barplot(x=x_df_filter_stop_resolution, y=y_df_filter_stop_resolution)\n",
    "# graph_stop_resolution.set(ylabel = 'Number of Stops', \n",
    "#                           xlabel = 'Resolution Type', \n",
    "#                           title = 'Seattle Terry Stops Resolution',)\n",
    "# plt.show()"
   ]
  },
  {
   "cell_type": "code",
   "execution_count": null,
   "metadata": {},
   "outputs": [],
   "source": [
    "# I didn't remove the string value '-' (hifen) but for this analysis, I've suppressed it with this filter\n",
    "filter_stop_resolution = df['Stop_Resolution'] != '-'\n",
    "# Here I'm applying our dataframe using the filter to another variable, that will be a new dataframe\n",
    "df_filter_stop_resolution = df[filter_stop_resolution]\n",
    "# Here you can see that I'm retrieving the indexes of the Stop_Resolution column\n",
    "y_df_filter_stop_resolution = df_filter_stop_resolution['Stop_Resolution'].value_counts().index\n",
    "# Here we have the values for each Stop_Resolution\n",
    "x_df_filter_stop_resolution = df_filter_stop_resolution['Stop_Resolution'].value_counts()\n",
    "\n",
    "# Now, let's create a pie chart because I think it's easier for us to understand what is happening\n",
    "fig, ax = plt.subplots()\n",
    "fig.set_size_inches(10, 10)\n",
    "graph_stop_resolution = ax.pie(x=x_df_filter_stop_resolution, \n",
    "                               labels=y_df_filter_stop_resolution,\n",
    "                               autopct='%1.1f%%')\n",
    "\n",
    "plt.show()"
   ]
  },
  {
   "cell_type": "markdown",
   "metadata": {},
   "source": [
    "## 2.3 Stops by officer\n",
    "Now, let's see what are the first 10 officers that stopped more people."
   ]
  },
  {
   "cell_type": "code",
   "execution_count": null,
   "metadata": {},
   "outputs": [],
   "source": [
    "len(df['Officer_ID'].unique()), len(df['Officer_ID'])"
   ]
  },
  {
   "cell_type": "code",
   "execution_count": null,
   "metadata": {},
   "outputs": [],
   "source": [
    "officer_counts = df['Officer_ID'].value_counts()\n",
    "df_officer_counts = pd.DataFrame(officer_counts)\n",
    "\n",
    "df_officer_counts_slice = df_officer_counts[:10]\n",
    "\n",
    "x_counts = df_officer_counts_slice['Officer_ID'].index\n",
    "y_counts = df_officer_counts_slice['Officer_ID']\n",
    "\n",
    "fig, ax = plt.subplots()\n",
    "fig.set_size_inches(18, 10)\n",
    "graph_officer_counts_ten = sns.barplot(x=x_counts, y=y_counts, data=df_officer_counts_slice, palette='winter_r')"
   ]
  },
  {
   "cell_type": "markdown",
   "metadata": {},
   "source": [
    "## 2.4 Weapons by the first 10 Officers\n",
    "Now, from the officers we saw above, we'll see what are the weapons that they find."
   ]
  },
  {
   "cell_type": "code",
   "execution_count": null,
   "metadata": {},
   "outputs": [],
   "source": [
    "officers_ids = officer_counts[:10].index\n",
    "officers_ids"
   ]
  },
  {
   "cell_type": "code",
   "execution_count": null,
   "metadata": {},
   "outputs": [],
   "source": [
    "df_officer_ids_weapons = df.loc[df['Officer_ID'].isin(officers_ids)]\n",
    "df_officer_ids_weapons.head()"
   ]
  },
  {
   "cell_type": "code",
   "execution_count": null,
   "metadata": {},
   "outputs": [],
   "source": [
    "filter_officer_ids_weapons = (df_officer_ids_weapons['Weapon_Type'] != '-') & (df_officer_ids_weapons['Weapon_Type'] != 'None')\n",
    "filter_officer_ids_weapons.any()"
   ]
  },
  {
   "cell_type": "code",
   "execution_count": null,
   "metadata": {},
   "outputs": [],
   "source": [
    "df_officer_ids_weapons_filtered = df_officer_ids_weapons[filter_officer_ids_weapons]\n",
    "\n",
    "sns.set_palette('Greens')\n",
    "fig, ax = plt.subplots()\n",
    "fig.set_size_inches(8,8)\n",
    "\n",
    "x_weapons = df_officer_ids_weapons_filtered['Weapon_Type'].value_counts()\n",
    "y_weapons = df_officer_ids_weapons_filtered['Weapon_Type'].value_counts().index\n",
    "\n",
    "graph_weapons_officers = ax.pie(x=x_weapons,\n",
    "                                labels=y_weapons, \n",
    "                                autopct='%1.1f%%',\n",
    "                                pctdistance=0.8)\n",
    "\n",
    "for weapon in graph_weapons_officers[0]:\n",
    "    weapon.set_edgecolor('black')\n",
    "plt.show()"
   ]
  },
  {
   "cell_type": "markdown",
   "metadata": {},
   "source": [
    "## 2.5. The Top 5 Weapon Types of our Entire Dataframe\n",
    "Above we saw the weapons that our first 10 officers found. Now, let's see what are the weapons for all our dataframe."
   ]
  },
  {
   "cell_type": "code",
   "execution_count": null,
   "metadata": {},
   "outputs": [],
   "source": [
    "filter_total_weapons = (df['Weapon_Type'] != '-') & (df['Weapon_Type'] != 'None')\n",
    "filter_total_weapons.any()"
   ]
  },
  {
   "cell_type": "code",
   "execution_count": null,
   "metadata": {},
   "outputs": [],
   "source": [
    "df_total_weapons = df[filter_total_weapons]\n",
    "\n",
    "# Before we go ahead, I'll fix some Weapon Types to make it easier for us.\n",
    "df_total_weapons = df_total_weapons.replace({'Blackjack':'Club, Blackjack, Brass Knuckles', \n",
    "                                             'Brass Knuckle':'Club, Blackjack, Brass Knuckles',\n",
    "                                             'Club':'Club, Blackjack, Brass Knuckles',\n",
    "                                             'Firearm Other':'Firearm', 'Firearm (unk type)':'Firearm'})\n",
    "\n",
    "max_weapon_on_chart = 5\n",
    "#chart config\n",
    "sns.set_palette('Reds_r')\n",
    "fig, ax = plt.subplots()\n",
    "fig.set_size_inches(15,15)\n",
    "\n",
    "x_total_weapons = df_total_weapons['Weapon_Type'].value_counts()[:max_weapon_on_chart]\n",
    "y_total_weapons = df_total_weapons['Weapon_Type'].value_counts().index[:max_weapon_on_chart]\n",
    "\n",
    "graph_total_weapons = ax.pie(x=x_total_weapons, labels=y_total_weapons, autopct='%1.1f%%', textprops={'fontsize': 15})\n",
    "\n",
    "for weapon in graph_total_weapons[0]:\n",
    "    weapon.set_edgecolor('white')"
   ]
  },
  {
   "cell_type": "markdown",
   "metadata": {},
   "source": [
    "As a result, we could see that Seattle Officers' findings are mainly Lethal Cutting Instruments - approximately 3/4."
   ]
  },
  {
   "cell_type": "markdown",
   "metadata": {},
   "source": [
    "## 2.6. Weapons by Race\n",
    "Let's see if we can found a pattern of guns by race"
   ]
  },
  {
   "cell_type": "code",
   "execution_count": null,
   "metadata": {},
   "outputs": [],
   "source": [
    "filter_weapons = (df['Weapon_Type'] != '-') & (df['Weapon_Type'] != 'None') \n",
    "filter_race = (df.Subject_Perceived_Race != 'Unknown') & (df.Subject_Perceived_Race != '-')\n",
    "\n",
    "df[filter_weapons & filter_race].Subject_Perceived_Race.unique()"
   ]
  },
  {
   "cell_type": "code",
   "execution_count": null,
   "metadata": {},
   "outputs": [],
   "source": [
    "df_weapons_race = df[filter_weapons & filter_race]\n",
    "\n",
    "df_weapons_race.Subject_Perceived_Race.unique()"
   ]
  },
  {
   "cell_type": "code",
   "execution_count": null,
   "metadata": {},
   "outputs": [],
   "source": [
    "filter_Multi_Racial = df_weapons_race.Subject_Perceived_Race == 'Multi-Racial'\n",
    "filter_Black = df_weapons_race.Subject_Perceived_Race == 'Black'\n",
    "filter_White = df_weapons_race.Subject_Perceived_Race == 'White'\n",
    "filter_AIAN = df_weapons_race.Subject_Perceived_Race == 'American Indian / Alaskan Native'\n",
    "filter_Asian = df_weapons_race.Subject_Perceived_Race == 'Asian'\n",
    "filter_Hispanic = df_weapons_race.Subject_Perceived_Race == 'Hispanic'\n",
    "filter_Other = df_weapons_race.Subject_Perceived_Race == 'Other'"
   ]
  },
  {
   "cell_type": "markdown",
   "metadata": {},
   "source": [
    "### 2.6.1. Multi-Racial People Guns"
   ]
  },
  {
   "cell_type": "code",
   "execution_count": null,
   "metadata": {
    "scrolled": false
   },
   "outputs": [],
   "source": [
    "max_weapon_on_chart = 5\n",
    "#chart config\n",
    "sns.set_palette('Reds_r')\n",
    "fig, ax = plt.subplots()\n",
    "fig.set_size_inches(8,8)\n",
    "\n",
    "x_total_weapons = df_weapons_race[filter_Multi_Racial].Weapon_Type.value_counts()[:max_weapon_on_chart]\n",
    "y_total_weapons = df_weapons_race[filter_Multi_Racial].Weapon_Type.value_counts().index[:max_weapon_on_chart]\n",
    "\n",
    "graph_total_weapons = ax.pie(x=x_total_weapons, labels=y_total_weapons, autopct='%1.1f%%', textprops={'fontsize': 12})\n",
    "\n",
    "for weapon in graph_total_weapons[0]:\n",
    "    weapon.set_edgecolor('white')\n",
    "    \n",
    "plt.show()"
   ]
  },
  {
   "cell_type": "markdown",
   "metadata": {},
   "source": [
    "### 2.6.2. Black People Guns"
   ]
  },
  {
   "cell_type": "code",
   "execution_count": null,
   "metadata": {},
   "outputs": [],
   "source": [
    "max_weapon_on_chart = 5\n",
    "#chart config\n",
    "sns.set_palette('Reds_r')\n",
    "fig, ax = plt.subplots()\n",
    "fig.set_size_inches(8,8)\n",
    "\n",
    "x_total_weapons = df_weapons_race[filter_Black].Weapon_Type.value_counts()[:max_weapon_on_chart]\n",
    "y_total_weapons = df_weapons_race[filter_Black].Weapon_Type.value_counts().index[:max_weapon_on_chart]\n",
    "\n",
    "graph_total_weapons = ax.pie(x=x_total_weapons, labels=y_total_weapons, autopct='%1.1f%%', textprops={'fontsize': 12})\n",
    "\n",
    "for weapon in graph_total_weapons[0]:\n",
    "    weapon.set_edgecolor('white')\n",
    "    \n",
    "plt.show()"
   ]
  },
  {
   "cell_type": "markdown",
   "metadata": {},
   "source": [
    "### 2.6.3. White People Guns"
   ]
  },
  {
   "cell_type": "code",
   "execution_count": null,
   "metadata": {},
   "outputs": [],
   "source": [
    "max_weapon_on_chart = 5\n",
    "#chart config\n",
    "sns.set_palette('Reds_r')\n",
    "fig, ax = plt.subplots()\n",
    "fig.set_size_inches(8,8)\n",
    "\n",
    "x_total_weapons = df_weapons_race[filter_White].Weapon_Type.value_counts()[:max_weapon_on_chart]\n",
    "y_total_weapons = df_weapons_race[filter_White].Weapon_Type.value_counts().index[:max_weapon_on_chart]\n",
    "\n",
    "graph_total_weapons = ax.pie(x=x_total_weapons, labels=y_total_weapons, autopct='%1.1f%%', textprops={'fontsize': 12})\n",
    "\n",
    "for weapon in graph_total_weapons[0]:\n",
    "    weapon.set_edgecolor('white')\n",
    "    \n",
    "plt.show()"
   ]
  },
  {
   "cell_type": "code",
   "execution_count": null,
   "metadata": {},
   "outputs": [],
   "source": [
    "filter_AIAN = df_weapons_race.Subject_Perceived_Race == 'American Indian / Alaskan Native'\n",
    "filter_Asian = df_weapons_race.Subject_Perceived_Race == 'Asian'\n",
    "filter_Hispanic = df_weapons_race.Subject_Perceived_Race == 'Hispanic'\n",
    "filter_Other = df_weapons_race.Subject_Perceived_Race == 'Other'"
   ]
  },
  {
   "cell_type": "markdown",
   "metadata": {},
   "source": [
    "### 2.6.4. American Indian / Alaskan Native People Guns"
   ]
  },
  {
   "cell_type": "code",
   "execution_count": null,
   "metadata": {},
   "outputs": [],
   "source": [
    "max_weapon_on_chart = 5\n",
    "#chart config\n",
    "sns.set_palette('Reds_r')\n",
    "fig, ax = plt.subplots()\n",
    "fig.set_size_inches(8,8)\n",
    "\n",
    "x_total_weapons = df_weapons_race[filter_AIAN].Weapon_Type.value_counts()[:max_weapon_on_chart]\n",
    "y_total_weapons = df_weapons_race[filter_AIAN].Weapon_Type.value_counts().index[:max_weapon_on_chart]\n",
    "\n",
    "graph_total_weapons = ax.pie(x=x_total_weapons, labels=y_total_weapons, autopct='%1.1f%%', textprops={'fontsize': 12})\n",
    "\n",
    "for weapon in graph_total_weapons[0]:\n",
    "    weapon.set_edgecolor('white')\n",
    "    \n",
    "plt.show()"
   ]
  },
  {
   "cell_type": "markdown",
   "metadata": {},
   "source": [
    "### 2.6.5. Asias People Guns"
   ]
  },
  {
   "cell_type": "code",
   "execution_count": null,
   "metadata": {},
   "outputs": [],
   "source": [
    "max_weapon_on_chart = 5\n",
    "#chart config\n",
    "sns.set_palette('Reds_r')\n",
    "fig, ax = plt.subplots()\n",
    "fig.set_size_inches(8,8)\n",
    "\n",
    "x_total_weapons = df_weapons_race[filter_Asian].Weapon_Type.value_counts()[:max_weapon_on_chart]\n",
    "y_total_weapons = df_weapons_race[filter_Asian].Weapon_Type.value_counts().index[:max_weapon_on_chart]\n",
    "\n",
    "graph_total_weapons = ax.pie(x=x_total_weapons, labels=y_total_weapons, autopct='%1.1f%%', textprops={'fontsize': 12})\n",
    "\n",
    "for weapon in graph_total_weapons[0]:\n",
    "    weapon.set_edgecolor('white')\n",
    "    \n",
    "plt.show()"
   ]
  },
  {
   "cell_type": "markdown",
   "metadata": {},
   "source": [
    "### 2.6.6. Hispanic People Guns"
   ]
  },
  {
   "cell_type": "code",
   "execution_count": null,
   "metadata": {},
   "outputs": [],
   "source": [
    "max_weapon_on_chart = 5\n",
    "#chart config\n",
    "sns.set_palette('Reds_r')\n",
    "fig, ax = plt.subplots()\n",
    "fig.set_size_inches(8,8)\n",
    "\n",
    "x_total_weapons = df_weapons_race[filter_Hispanic].Weapon_Type.value_counts()[:max_weapon_on_chart]\n",
    "y_total_weapons = df_weapons_race[filter_Hispanic].Weapon_Type.value_counts().index[:max_weapon_on_chart]\n",
    "\n",
    "graph_total_weapons = ax.pie(x=x_total_weapons, labels=y_total_weapons, autopct='%1.1f%%', textprops={'fontsize': 12})\n",
    "\n",
    "for weapon in graph_total_weapons[0]:\n",
    "    weapon.set_edgecolor('white')\n",
    "    \n",
    "plt.show()"
   ]
  },
  {
   "cell_type": "markdown",
   "metadata": {},
   "source": [
    "### 2.6.7. Other People Guns"
   ]
  },
  {
   "cell_type": "code",
   "execution_count": null,
   "metadata": {},
   "outputs": [],
   "source": [
    "max_weapon_on_chart = 5\n",
    "#chart config\n",
    "sns.set_palette('Reds_r')\n",
    "fig, ax = plt.subplots()\n",
    "fig.set_size_inches(8,8)\n",
    "\n",
    "x_total_weapons = df_weapons_race[filter_Other].Weapon_Type.value_counts()[:max_weapon_on_chart]\n",
    "y_total_weapons = df_weapons_race[filter_Other].Weapon_Type.value_counts().index[:max_weapon_on_chart]\n",
    "\n",
    "graph_total_weapons = ax.pie(x=x_total_weapons, labels=y_total_weapons, autopct='%1.1f%%', textprops={'fontsize': 12})\n",
    "\n",
    "for weapon in graph_total_weapons[0]:\n",
    "    weapon.set_edgecolor('white')\n",
    "    \n",
    "plt.show()"
   ]
  },
  {
   "cell_type": "markdown",
   "metadata": {},
   "source": [
    "## 3. What Officer Gender is the most usual?"
   ]
  },
  {
   "cell_type": "code",
   "execution_count": null,
   "metadata": {},
   "outputs": [],
   "source": [
    "df.Officer_Gender.unique().tolist()"
   ]
  },
  {
   "cell_type": "code",
   "execution_count": null,
   "metadata": {},
   "outputs": [],
   "source": [
    "sns.set_palette('Reds_r')\n",
    "fig, ax = plt.subplots()\n",
    "fig.set_size_inches(8,8)\n",
    "\n",
    "x_officers_genders = df.Officer_Gender.value_counts()\n",
    "y_officers_genders = df.Officer_Gender.value_counts().index\n",
    "\n",
    "graph_officers_gender = ax.pie(x=x_officers_genders, labels=y_officers_genders, autopct='%1.2f%%')\n",
    "\n",
    "plt.show()"
   ]
  },
  {
   "cell_type": "markdown",
   "metadata": {},
   "source": [
    "### 3.1. What are the 5 main guns by Officer Gender?"
   ]
  },
  {
   "cell_type": "markdown",
   "metadata": {},
   "source": [
    "### 3.1.1. 5 Main Guns by Officer Gender - Female"
   ]
  },
  {
   "cell_type": "code",
   "execution_count": null,
   "metadata": {},
   "outputs": [],
   "source": [
    "filter_female = df['Officer_Gender'] == 'F'\n",
    "filter_weapons = (df['Weapon_Type'] != '-') & (df['Weapon_Type'] != 'None') "
   ]
  },
  {
   "cell_type": "code",
   "execution_count": null,
   "metadata": {},
   "outputs": [],
   "source": [
    "df_female_weapons = df[(filter_female) & (filter_weapons)]\n",
    "\n",
    "sns.set_palette('Reds_r')\n",
    "fig, ax = plt.subplots()\n",
    "fig.set_size_inches(8,8)\n",
    "\n",
    "x_female_weapons = df_female_weapons.Weapon_Type.value_counts()[:5]\n",
    "y_female_weapons = df_female_weapons.Weapon_Type.value_counts().index[:5]\n",
    "\n",
    "graph_female_weapons = ax.pie(x=x_female_weapons, labels=y_female_weapons, autopct='%1.2f%%')\n",
    "\n",
    "plt.show()"
   ]
  },
  {
   "cell_type": "markdown",
   "metadata": {},
   "source": [
    "### 3.1.2. 5 Main Guns by Officer Gender - Male"
   ]
  },
  {
   "cell_type": "code",
   "execution_count": null,
   "metadata": {},
   "outputs": [],
   "source": [
    "filter_male = df['Officer_Gender'] == 'M'\n",
    "df_male_weapons = df[(filter_male) & (filter_weapons)]\n",
    "\n",
    "sns.set_palette('Reds_r')\n",
    "fig, ax = plt.subplots()\n",
    "fig.set_size_inches(8,8)\n",
    "\n",
    "x_male_weapons = df_male_weapons.Weapon_Type.value_counts()[:5]\n",
    "y_male_weapons = df_male_weapons.Weapon_Type.value_counts().index[:5]\n",
    "\n",
    "graph_male_weapons = ax.pie(x=x_male_weapons, labels=y_male_weapons, autopct='%1.2f%%')\n",
    "\n",
    "plt.show()"
   ]
  },
  {
   "cell_type": "markdown",
   "metadata": {},
   "source": [
    "### 3.2. What are the 5 Main Stop Resolution by Officer Gender?"
   ]
  },
  {
   "cell_type": "markdown",
   "metadata": {},
   "source": [
    "### 3.2.1. 5 Main Stop Resolution by Officer Gender - Male"
   ]
  },
  {
   "cell_type": "code",
   "execution_count": null,
   "metadata": {},
   "outputs": [],
   "source": [
    "filter_male = df['Officer_Gender'] == 'M'\n",
    "filter_stop_resolutions = df.Stop_Resolution != '-'\n",
    "df_male_weapons = df[(filter_male) & (filter_stop_resolutions)]\n",
    "\n",
    "sns.set_palette('Reds_r')\n",
    "fig, ax = plt.subplots()\n",
    "fig.set_size_inches(8,8)\n",
    "\n",
    "x_male_weapons = df_male_weapons.Stop_Resolution.value_counts()[:5]\n",
    "y_male_weapons = df_male_weapons.Stop_Resolution.value_counts().index[:5]\n",
    "\n",
    "graph_male_weapons = ax.pie(x=x_male_weapons, labels=y_male_weapons, autopct='%1.2f%%')\n",
    "\n",
    "plt.show()"
   ]
  },
  {
   "cell_type": "markdown",
   "metadata": {},
   "source": [
    "### 3.2.2. 5 Main Stop Resolution by Officer Gender - Female"
   ]
  },
  {
   "cell_type": "code",
   "execution_count": null,
   "metadata": {},
   "outputs": [],
   "source": [
    "filter_female = df['Officer_Gender'] == 'F'\n",
    "\n",
    "df_female_weapons = df[(filter_female) & (filter_stop_resolutions)]\n",
    "\n",
    "sns.set_palette('Reds_r')\n",
    "fig, ax = plt.subplots()\n",
    "fig.set_size_inches(8,8)\n",
    "\n",
    "x_female_weapons = df_female_weapons.Stop_Resolution.value_counts()[:5]\n",
    "y_female_weapons = df_female_weapons.Stop_Resolution.value_counts().index[:5]\n",
    "\n",
    "graph_female_weapons = ax.pie(x=x_female_weapons, labels=y_female_weapons, autopct='%1.2f%%')\n",
    "\n",
    "plt.show()"
   ]
  },
  {
   "cell_type": "markdown",
   "metadata": {},
   "source": [
    "## 4. What are the first 5 squads that have more stops?"
   ]
  },
  {
   "cell_type": "markdown",
   "metadata": {},
   "source": [
    "### 4.1. What is the reprentation of the first 5 squads?"
   ]
  },
  {
   "cell_type": "code",
   "execution_count": null,
   "metadata": {},
   "outputs": [],
   "source": [
    "#chart config\n",
    "sns.set_palette('Greens')\n",
    "fig, ax = plt.subplots()\n",
    "fig.set_size_inches(8,8)\n",
    "\n",
    "x_squads = df.Officer_Squad.value_counts()[:5]\n",
    "labels_squads = df.Officer_Squad.value_counts().index[:5]\n",
    "\n",
    "graph_squads = ax.pie(x=x_squads, labels=labels_squads, autopct='%1.2f%%')\n",
    "\n",
    "plt.show()"
   ]
  },
  {
   "cell_type": "code",
   "execution_count": null,
   "metadata": {},
   "outputs": [],
   "source": [
    "sns.set_palette('Blues')\n",
    "fig, ax = plt.subplots()\n",
    "fig.set_size_inches(15,12)\n",
    "\n",
    "x_squads = df.Officer_Squad.value_counts().index[:20]\n",
    "y_squads = df.Officer_Squad.value_counts()[:20]\n",
    "\n",
    "graph_squads = sns.barplot(x=x_squads, y=y_squads, data=df )\n",
    "\n",
    "for item in graph_squads.get_xticklabels():\n",
    "    item.set_rotation(90)\n",
    "\n",
    "plt.show()"
   ]
  },
  {
   "cell_type": "code",
   "execution_count": null,
   "metadata": {},
   "outputs": [],
   "source": [
    "filter_squad_precinct = df.Officer_Squad.isin(df.Officer_Squad.value_counts().index[:20].tolist())"
   ]
  },
  {
   "cell_type": "code",
   "execution_count": null,
   "metadata": {},
   "outputs": [],
   "source": [
    "df_squads_precinct = df[filter_squad_precinct]\n",
    "\n",
    "#chart config\n",
    "sns.set_palette('Greens')\n",
    "fig, ax = plt.subplots()\n",
    "fig.set_size_inches(10,8)\n",
    "\n",
    "x_squads_precinct = df_squads_precinct['Precinct'].value_counts().index\n",
    "labels_squads_precinct = df_squads_precinct['Precinct'].value_counts()\n",
    "\n",
    "graph_squads_precinct = ax.pie(x=x_squads_precinct, labels=labels_squads_precinct)\n",
    "\n",
    "plt.show()"
   ]
  },
  {
   "cell_type": "code",
   "execution_count": null,
   "metadata": {},
   "outputs": [],
   "source": []
  },
  {
   "cell_type": "code",
   "execution_count": null,
   "metadata": {
    "scrolled": false
   },
   "outputs": [],
   "source": []
  },
  {
   "cell_type": "code",
   "execution_count": null,
   "metadata": {},
   "outputs": [],
   "source": []
  }
 ],
 "metadata": {
  "kernelspec": {
   "display_name": "Python 3",
   "language": "python",
   "name": "python3"
  },
  "language_info": {
   "codemirror_mode": {
    "name": "ipython",
    "version": 3
   },
   "file_extension": ".py",
   "mimetype": "text/x-python",
   "name": "python",
   "nbconvert_exporter": "python",
   "pygments_lexer": "ipython3",
   "version": "3.6.5"
  }
 },
 "nbformat": 4,
 "nbformat_minor": 2
}
